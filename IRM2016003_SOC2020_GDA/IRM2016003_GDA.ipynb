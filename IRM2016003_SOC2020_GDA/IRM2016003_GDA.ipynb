{
 "cells": [
  {
   "cell_type": "markdown",
   "metadata": {},
   "source": [
    "## Gaussian Discriminant Analysis\n",
    "``` IRM2016003 Aditya Goel```"
   ]
  },
  {
   "cell_type": "markdown",
   "metadata": {},
   "source": [
    "Use the microchip data set available in your link on my website. Use 70% of the data for training and 30% for testing.For two features, first  using Bux- Muller transformation create new data set having Gaussian distribution within the range of the given  data set and  create Gaussian Discriminant Analysis (GDA)  model. Thereafter utilize the model to predict where a component will be accepted or rejected using testing data\n"
   ]
  },
  {
   "cell_type": "markdown",
   "metadata": {},
   "source": [
    "### Data Processing"
   ]
  },
  {
   "cell_type": "code",
   "execution_count": 241,
   "metadata": {},
   "outputs": [],
   "source": [
    "import pandas as pd\n",
    "import numpy as np\n",
    "import sklearn\n",
    "from numpy import random, sqrt, log, sin, cos, pi\n",
    "from pylab import show,hist,subplot,figure\n",
    "from sklearn.model_selection import train_test_split\n",
    "\n"
   ]
  },
  {
   "cell_type": "code",
   "execution_count": 35,
   "metadata": {},
   "outputs": [],
   "source": [
    "df = pd.read_csv(\"Microchip_dataset.csv\")\n",
    "df.head()\n",
    "X = df[df.columns[:-1]]\n",
    "y = df[df.columns[-1]]\n",
    "X_train, X_test, y_train, y_test = train_test_split(X, y, test_size = 0.3, random_state = 42)"
   ]
  },
  {
   "cell_type": "code",
   "execution_count": 173,
   "metadata": {},
   "outputs": [],
   "source": [
    "feature_1 = np.array(X_train[\"feature_1\"])\n",
    "feature_2 = np.array(X_train[\"feature_2\"])\n",
    "\n",
    "data = np.array([X_train[\"feature_1\"], X_train[\"feature_2\"]]).T"
   ]
  },
  {
   "cell_type": "markdown",
   "metadata": {},
   "source": [
    "#### Box-Muller Transformation\n"
   ]
  },
  {
   "cell_type": "code",
   "execution_count": 187,
   "metadata": {},
   "outputs": [],
   "source": [
    "def box_muller_transform(u1,u2):\n",
    "    z1 = sqrt(abs(-2*log(abs(u1))))*cos(2*pi*u2)\n",
    "    z2 = sqrt(abs(-2*log(abs(u1))))*sin(2*pi*u2)\n",
    "    return z1,z2"
   ]
  },
  {
   "cell_type": "code",
   "execution_count": 219,
   "metadata": {},
   "outputs": [],
   "source": [
    "# run the transformation\n",
    "XB_feature_1,XB_feature_2 = box_muller_transform(feature_1, feature_2)"
   ]
  },
  {
   "cell_type": "code",
   "execution_count": 215,
   "metadata": {},
   "outputs": [
    {
     "data": {
      "image/png": "[encoded data removed]",
      "text/plain": [
       "<Figure size 432x288 with 2 Axes>"
      ]
     },
     "metadata": {
      "needs_background": "light"
     },
     "output_type": "display_data"
    }
   ],
   "source": [
    "figure()\n",
    "subplot(121) # the second contains\n",
    "hist(XB_train)     # the histograms of z1 and z2\n",
    "subplot(122)\n",
    "hist(XB_test)\n",
    "show()"
   ]
  },
  {
   "cell_type": "markdown",
   "metadata": {},
   "source": [
    "#### GDA Algorithm"
   ]
  },
  {
   "cell_type": "markdown",
   "metadata": {},
   "source": [
    "<img src=\"GDA_Params.png\">"
   ]
  },
  {
   "cell_type": "code",
   "execution_count": 191,
   "metadata": {},
   "outputs": [],
   "source": [
    "import numpy as np\n",
    "from scipy.stats import multivariate_normal\n",
    "\n",
    "class GDA:\n",
    "\n",
    "    def fit(self, X, y):\n",
    "        n_samples, n_features = X.shape\n",
    "        self.__classes = np.unique(y)\n",
    "        n_classes = len(self.__classes)\n",
    "        \n",
    "        self.__phi = np.zeros((n_classes, 1))\n",
    "        self.__means = np.zeros((n_classes, n_features))\n",
    "        self.__sigma = 0\n",
    "        for i in range(n_classes):\n",
    "            indexes = np.flatnonzero(y == self.__classes[i])\n",
    "\n",
    "            self.__phi[i] = len(indexes) / n_samples\n",
    "            self.__means[i] = np.mean(X[indexes], axis=0)\n",
    "            self.__sigma += np.cov(X[indexes].T) * (len(indexes) - 1)\n",
    "\n",
    "        self.__sigma /= n_samples\n",
    "\n",
    "    def predict(self, X):\n",
    "  \n",
    "        pdf = lambda mean: multivariate_normal.pdf(X, mean=mean, cov=self.__sigma)\n",
    "        y_probs = np.apply_along_axis(pdf, 1, self.__means) * self.__phi\n",
    "\n",
    "        return self.__classes[np.argmax(y_probs, axis=0)]"
   ]
  },
  {
   "cell_type": "markdown",
   "metadata": {},
   "source": [
    "#### GDA without Box Muller Transformation"
   ]
  },
  {
   "cell_type": "code",
   "execution_count": 244,
   "metadata": {},
   "outputs": [],
   "source": [
    "gda_original = GDA()\n",
    "gda_original.fit(X_train.to_numpy(), y_test.to_numpy())\n",
    "gda_original_predict = gda_original.predict(X_test.to_numpy())"
   ]
  },
  {
   "cell_type": "code",
   "execution_count": 242,
   "metadata": {},
   "outputs": [
    {
     "data": {
      "text/plain": [
       "0.4444444444444444"
      ]
     },
     "execution_count": 242,
     "metadata": {},
     "output_type": "execute_result"
    }
   ],
   "source": [
    "sklearn.metrics.accuracy_score(gda_original_predict, y_test)"
   ]
  },
  {
   "cell_type": "markdown",
   "metadata": {},
   "source": [
    "#### GDA with Box Muller Transformation "
   ]
  },
  {
   "cell_type": "code",
   "execution_count": 238,
   "metadata": {},
   "outputs": [],
   "source": [
    "gda_box = GDA()\n",
    "gda_box.fit(np.array([XB_feature_1, XB_feature_2]).T, y_test)\n",
    "gda_box_predict = gda_box.predict(X_test.to_numpy())\n"
   ]
  },
  {
   "cell_type": "code",
   "execution_count": 243,
   "metadata": {},
   "outputs": [
    {
     "data": {
      "text/plain": [
       "0.6111111111111112"
      ]
     },
     "execution_count": 243,
     "metadata": {},
     "output_type": "execute_result"
    }
   ],
   "source": [
    "sklearn.metrics.accuracy_score(gda_box_predict, y_test)"
   ]
  },
  {
   "cell_type": "markdown",
   "metadata": {},
   "source": [
    "#### Compare the performance of GDA in both the above cases"
   ]
  },
  {
   "cell_type": "markdown",
   "metadata": {},
   "source": [
    "```Accuracy without Transformation: 0.444```"
   ]
  },
  {
   "cell_type": "markdown",
   "metadata": {},
   "source": [
    "```Accuracy with Box-Muller method: 0.6111```"
   ]
  },
  {
   "cell_type": "markdown",
   "metadata": {},
   "source": [
    "``` Evidently, transformation has helped in increasing accuracy```"
   ]
  }
 ],
 "metadata": {
  "kernelspec": {
   "display_name": "Python 3",
   "language": "python",
   "name": "python3"
  },
  "language_info": {
   "codemirror_mode": {
    "name": "ipython",
    "version": 3
   },
   "file_extension": ".py",
   "mimetype": "text/x-python",
   "name": "python",
   "nbconvert_exporter": "python",
   "pygments_lexer": "ipython3",
   "version": "3.6.8"
  }
 },
 "nbformat": 4,
 "nbformat_minor": 2
}
